{
 "cells": [
  {
   "cell_type": "code",
   "execution_count": 1,
   "metadata": {
    "id": "9R3SfHZ00vHo"
   },
   "outputs": [],
   "source": [
    "from pandas import DataFrame, read_csv, concat\n",
    "from numpy import matrix, bincount\n",
    "from matplotlib import pyplot as plt\n",
    "plt.style.use('seaborn-whitegrid')"
   ]
  },
  {
   "cell_type": "code",
   "execution_count": 2,
   "metadata": {
    "id": "1BK89Ojm10aU"
   },
   "outputs": [],
   "source": [
    "class Dataset:\n",
    "  def __init__(self, dataset_url, label='Outcome'):\n",
    "    self.dataset = read_csv(dataset_url)\n",
    "    self.label = self.dataset[label]\n",
    "    self.data = self.dataset.drop(label, axis=1)\n",
    "    self.std_dev = self.data.std().values\n",
    "    self.mean = self.data.mean().values\n",
    "\n",
    "  def standard_scaler(self, x, x_mean, x_std_dev):\n",
    "    return (x - x_mean) / x_std_dev\n",
    "\n",
    "  def preprocess(self):\n",
    "    pp_data = []\n",
    "    for row in self.data.values:\n",
    "      pp_row = list(map(self.standard_scaler, row, self.mean, self.std_dev))\n",
    "      pp_data.append(pp_row)\n",
    "    pp_data = matrix(pp_data)\n",
    "    return pp_data\n",
    "\n",
    "  def split_data(self, *split_range):\n",
    "    pp_data = DataFrame(self.preprocess())\n",
    "    test_data, train_data = [], []\n",
    "    for sr in split_range:\n",
    "      if len(sr) == 2:\n",
    "        r1, r2 = sr\n",
    "        x_train = pp_data[r1-1:r2]\n",
    "        y_train = self.label[r1-1:r2]\n",
    "      else:\n",
    "        r1, r2, r3 = sr\n",
    "        x_train = concat([pp_data[:r1], pp_data[r2-1:r3]])\n",
    "        y_train = concat([self.label[:r1], self.label[r2-1:r3]])\n",
    "      x_test = pp_data.drop(x_train.index).values\n",
    "      y_test = self.label.drop(y_train.index).values\n",
    "      x_train = x_train.values\n",
    "      y_train = y_train.values\n",
    "      test = list(zip(x_test, y_test))\n",
    "      train = list(zip(x_train, y_train))\n",
    "      test_data.append(test)\n",
    "      train_data.append(train)\n",
    "    return test_data, train_data\n"
   ]
  },
  {
   "cell_type": "code",
   "execution_count": 3,
   "metadata": {
    "id": "CgTbxFnnCcd5"
   },
   "outputs": [],
   "source": [
    "class KNearestNeighbor:\n",
    "  def square_difference(self, x1_p, x2_p):\n",
    "    return (x1_p - x2_p) ** 2\n",
    "\n",
    "  def euclidean_distance(self, x1, x2):\n",
    "    distance = map(self.square_difference, x1, x2)\n",
    "    distance = sum(distance) ** 0.5\n",
    "    return distance\n",
    "\n",
    "  def classification(self, k, test, train):\n",
    "    x_test, y_test = test\n",
    "    label = []\n",
    "    for x_train, y_train in train:\n",
    "      distance = self.euclidean_distance(x_test, x_train)\n",
    "      label.append((distance, y_train))\n",
    "    label = sorted(label, key=lambda lbl: lbl[0])[:k]\n",
    "    label = [y for distance, y in label]\n",
    "    label = bincount(label).argmax()\n",
    "    return label\n",
    "\n",
    "  def train(self, k, test, train):\n",
    "    label_train = []\n",
    "    for ts in test:\n",
    "      label = self.classification(k, ts, train)\n",
    "      label_train.append(label)\n",
    "    return label_train\n",
    "\n",
    "  def accuracy_score(self, k, test, train):\n",
    "    label_train = self.train(k, test, train)\n",
    "    label_test = [y for x, y in test]\n",
    "    data_size = len(label_train)\n",
    "    score = sum([1/data_size\n",
    "                 for tr, ts in zip(label_train, label_test)\n",
    "                 if tr == ts])\n",
    "    return score\n",
    "\n",
    "  def cross_validation(self, max_k, test, train):\n",
    "    score_list = []\n",
    "    k_list = [k for k in range(1, max_k+1, 2)]\n",
    "    for k in k_list:\n",
    "      current_score = []\n",
    "      for ts, tr in zip(test, train):\n",
    "        score = self.accuracy_score(k, ts, tr)\n",
    "        current_score.append(score)\n",
    "      current_score = sum(current_score) / len(current_score) * 100\n",
    "      score_list.append(current_score)\n",
    "    idx_best = score_list.index(max(score_list))\n",
    "    score_best = score_list[idx_best]\n",
    "    k_best = 2 * idx_best + 1\n",
    "    return score_best, k_best, k_list, score_list\n",
    "\n",
    "  def estimate(self, k_best, dataset):\n",
    "    data = DataFrame(dataset.preprocess()).values\n",
    "    label = dataset.label.values\n",
    "    data = list(zip(data, label))\n",
    "    size = len(data)\n",
    "    score_final = 0\n",
    "    for i in range(size):\n",
    "      test = [data[i]]\n",
    "      train = [xy for j, xy in enumerate(data) if j != i]\n",
    "      score_final += self.accuracy_score(k_best, test, train) / size * 100\n",
    "    return score_final"
   ]
  },
  {
   "cell_type": "code",
   "execution_count": 4,
   "metadata": {
    "id": "N5FYqU1n4WsU"
   },
   "outputs": [],
   "source": [
    "data_range = [(1, 614), (461, 642, 768), (307, 462, 768), \n",
    "              (154, 308, 768), (155, 768)]\n",
    "csv_domain = 'https://docs.google.com/spreadsheets/d'\n",
    "csv_id = '1LYy6IKpI8CaaHAALDeu52N2xUg6Qo4cZvAxMaSOQOG0'\n",
    "csv_export = 'export?format=csv'\n",
    "dataset_url = f'{csv_domain}/{csv_id}/{csv_export}'\n",
    "ds = Dataset(dataset_url)\n",
    "test, train = ds.split_data(*data_range)"
   ]
  },
  {
   "cell_type": "code",
   "execution_count": 5,
   "metadata": {
    "id": "JeIIgcQVcCBx"
   },
   "outputs": [],
   "source": [
    "knn = KNearestNeighbor()\n",
    "score_best, k_best, k_list, score_list = knn.cross_validation(50, test, train)\n",
    "score_final = knn.estimate(k_best, ds)"
   ]
  },
  {
   "cell_type": "code",
   "execution_count": 6,
   "metadata": {
    "colab": {
     "base_uri": "https://localhost:8080/",
     "height": 291
    },
    "id": "U1Uobh0q4rfI",
    "outputId": "341c8b40-13ad-46aa-e217-d17a575c9c72"
   },
   "outputs": [
    {
     "data": {
      "image/png": "[encoded data removed]",
      "text/plain": [
       "<Figure size 432x288 with 1 Axes>"
      ]
     },
     "metadata": {},
     "output_type": "display_data"
    }
   ],
   "source": [
    "plt.title('k accuracy')\n",
    "plt.xlabel('k')\n",
    "plt.ylabel('Score (%)')\n",
    "plt.plot(k_list, score_list, '-o')\n",
    "for k, score in zip(k_list, score_list):\n",
    "  plt.plot(k, score, 'o')\n",
    "  plt.text(k, score + .25, k)\n",
    "plt.ylim((min(score_list) - .25, score_best + 1))\n",
    "plt.axhline(min(score_list), color='k')\n",
    "plt.axvline(color='k')\n",
    "plt.savefig('k-vs-score.png')\n",
    "plt.show()"
   ]
  },
  {
   "cell_type": "code",
   "execution_count": 7,
   "metadata": {
    "colab": {
     "base_uri": "https://localhost:8080/"
    },
    "id": "14XoQB66mTj1",
    "outputId": "209efc7b-c567-4cc9-ba37-59d3400b009d"
   },
   "outputs": [
    {
     "name": "stdout",
     "output_type": "stream",
     "text": [
      "Best k: 29\n",
      "Final training score: 76.68%\n",
      "Final testing score: 74.61%\n"
     ]
    }
   ],
   "source": [
    "k_output = 'Best k: {}'.format(k_best)\n",
    "score_train_output = 'Final training score: {:.2f}%'.format(score_best)\n",
    "score_test_output = 'Final testing score: {:.2f}%'.format(score_final)\n",
    "print(f'{k_output}\\n{score_train_output}\\n{score_test_output}')"
   ]
  }
 ],
 "metadata": {
  "colab": {
   "name": "kNN-2",
   "provenance": []
  },
  "kernelspec": {
   "display_name": "Python 3",
   "language": "python",
   "name": "python3"
  },
  "language_info": {
   "codemirror_mode": {
    "name": "ipython",
    "version": 3
   },
   "file_extension": ".py",
   "mimetype": "text/x-python",
   "name": "python",
   "nbconvert_exporter": "python",
   "pygments_lexer": "ipython3",
   "version": "3.8.5"
  }
 },
 "nbformat": 4,
 "nbformat_minor": 4
}
